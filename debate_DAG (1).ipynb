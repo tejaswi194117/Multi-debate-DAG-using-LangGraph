{
  "nbformat": 4,
  "nbformat_minor": 0,
  "metadata": {
    "colab": {
      "provenance": []
    },
    "kernelspec": {
      "name": "python3",
      "display_name": "Python 3"
    },
    "language_info": {
      "name": "python"
    }
  },
  "cells": [
    {
      "cell_type": "code",
      "source": [
        "\"\"\"# Project Overview: Multi-Agent Debate DAG\n",
        "\n",
        "This notebook simulates a debate between two GPT-powered agents — a Scientist and a Philosopher — on any user-defined topic. The debate proceeds in 8 rounds, with memory-sharing between turns. A final JudgeNode evaluates the entire discussion and declares a winner.\n",
        "\n",
        "**Outputs:**\n",
        "- `debate_log.txt` – full transcript + GPT verdict\n",
        "- `debate_dag.png` – DAG diagram of the debate flow\n",
        "\n",
        "**Powered by:**\n",
        "- OpenAI GPT (via API key)\n",
        "- Graphviz for DAG\"\"\"\n"
      ],
      "metadata": {
        "colab": {
          "base_uri": "https://localhost:8080/",
          "height": 71
        },
        "id": "dh6rbTeemfnI",
        "outputId": "0ab7fcd9-0ef3-462e-bf99-07cb6425aef8"
      },
      "execution_count": 1,
      "outputs": [
        {
          "output_type": "execute_result",
          "data": {
            "text/plain": [
              "'# Project Overview: Multi-Agent Debate DAG\\n\\nThis notebook simulates a debate between two GPT-powered agents — a Scientist and a Philosopher — on any user-defined topic. The debate proceeds in 8 rounds, with memory-sharing between turns. A final JudgeNode evaluates the entire discussion and declares a winner.\\n\\n**Outputs:**\\n- `debate_log.txt` – full transcript + GPT verdict\\n- `debate_dag.png` – DAG diagram of the debate flow\\n\\n**Powered by:**\\n- OpenAI GPT (via API key)\\n- Graphviz for DAG'"
            ],
            "application/vnd.google.colaboratory.intrinsic+json": {
              "type": "string"
            }
          },
          "metadata": {},
          "execution_count": 1
        }
      ]
    },
    {
      "cell_type": "markdown",
      "source": [
        "#Install Required Packages\n",
        "# I initially explored using Hugging Face models like Falcon and Zephyr.\n",
        "# However, I encountered various issues: Falcon lacked reasoning accuracy, Zephyr required restricted access tokens, and Mistral failed with 403 errors.\n",
        "# To align with the task PDF and ensure high-quality responses, I switched to OpenAI's GPT models with LangGraph, which provided structure and precision."
      ],
      "metadata": {
        "id": "yBQePbUdVg1h"
      }
    },
    {
      "cell_type": "code",
      "execution_count": 18,
      "metadata": {
        "id": "aSwHZubxVWBj"
      },
      "outputs": [],
      "source": [
        "!pip install --upgrade --quiet openai==1.3.8 langgraph httpx==0.24.1\n"
      ]
    },
    {
      "cell_type": "markdown",
      "source": [
        "# Cell 2: Imports\n",
        "# These are standard imports to support the LangGraph DAG structure, OpenAI API communication,\n",
        "# and basic utilities like datetime and type annotations for cleaner code and type safety."
      ],
      "metadata": {
        "id": "zIa0xJIYXKn1"
      }
    },
    {
      "cell_type": "code",
      "source": [
        "from langgraph.graph import StateGraph, END\n",
        "import openai\n",
        "from getpass import getpass\n",
        "import os\n",
        "from typing import TypedDict, List\n",
        "import datetime\n"
      ],
      "metadata": {
        "id": "1f1w5M0qWRBl"
      },
      "execution_count": 19,
      "outputs": []
    },
    {
      "cell_type": "markdown",
      "source": [
        "# Cell 3: Set API Key\n",
        "# When I was initially using openai==0.28.1, I relied on legacy authentication methods like `openai.ChatCompletion.create()`.\n",
        "# With the release of OpenAI v1.0+, I updated this logic to use the new `chat.completions.create()` interface,\n",
        "# which requires setting the API key via `openai.api_key`."
      ],
      "metadata": {
        "id": "0ZzjXnVZBg-r"
      }
    },
    {
      "cell_type": "code",
      "source": [
        "openai.api_key = getpass(\" Enter your OpenAI API key:\")\n"
      ],
      "metadata": {
        "colab": {
          "base_uri": "https://localhost:8080/"
        },
        "id": "2pTDiozCBmOo",
        "outputId": "bf084692-c14c-4f34-93cd-c4f91004baeb"
      },
      "execution_count": 20,
      "outputs": [
        {
          "name": "stdout",
          "output_type": "stream",
          "text": [
            "🔑 Enter your OpenAI API key:··········\n"
          ]
        }
      ]
    },
    {
      "cell_type": "markdown",
      "source": [
        "# Cell 4: User Input\n",
        "# One of the improvements based on feedback was to make the debate system dynamic.\n",
        "# Instead of hardcoding agent professions like 'Scientist' and 'Philosopher', I modified the interface to accept user inputs.\n",
        "# This makes the simulation flexible and better aligned with real-world scenarios."
      ],
      "metadata": {
        "id": "vFpIaHV1koiA"
      }
    },
    {
      "cell_type": "code",
      "source": [
        "print(\"\\n--- Debate Configuration ---\")\n",
        "topic = input(\" Enter the debate topic: \")\n",
        "agent1 = input(\" Enter Agent 1's profession: \")\n",
        "agent2 = input(\" Enter Agent 2's profession: \")\n"
      ],
      "metadata": {
        "colab": {
          "base_uri": "https://localhost:8080/"
        },
        "id": "d0xMk_JiXDmm",
        "outputId": "d909556e-9431-458d-e6e6-aacc38c94660"
      },
      "execution_count": 21,
      "outputs": [
        {
          "name": "stdout",
          "output_type": "stream",
          "text": [
            "\n",
            "--- Debate Configuration ---\n",
            "🗣️ Enter the debate topic: should ai be regulated as  medicine?\n",
            "👤 Enter Agent 1's profession: scientist\n",
            "👤 Enter Agent 2's profession: philosopher\n"
          ]
        }
      ]
    },
    {
      "cell_type": "markdown",
      "source": [
        "# Cell 5: State Schema\n",
        "# LangGraph relies on passing a mutable state object between nodes.\n",
        "# I created a TypedDict class `DebateState` that includes the current round,\n",
        "# a memory for each agent, a list of debate history, the next speaker, and the judge's verdict."
      ],
      "metadata": {
        "id": "epr5C_u7kxwr"
      }
    },
    {
      "cell_type": "code",
      "source": [
        "class DebateState(TypedDict):\n",
        "    round: int\n",
        "    history: List[str]\n",
        "    memory1: str\n",
        "    memory2: str\n",
        "    next_speaker: str\n",
        "    verdict: str\n"
      ],
      "metadata": {
        "id": "Boj5Zxa8Xa6m"
      },
      "execution_count": 22,
      "outputs": []
    },
    {
      "cell_type": "markdown",
      "source": [
        "# Cell 6: GPT Helper Function\n",
        "# This function wraps OpenAI's chat completion API call.\n",
        "# It constructs messages for each agent and formats their prompt with current memory and topic.\n",
        "# Initially I used v0.28's syntax, but migrated to v1.3.8+ with this structured, compliant interface."
      ],
      "metadata": {
        "id": "mfy0xQfvk_Gr"
      }
    },
    {
      "cell_type": "code",
      "source": [
        "def ask_gpt(prompt: str) -> str:\n",
        "    response = openai.chat.completions.create(\n",
        "        model=\"gpt-3.5-turbo\",\n",
        "        messages=[\n",
        "            {\"role\": \"system\", \"content\": \"You are a formal debater participating in a structured discussion.\"},\n",
        "            {\"role\": \"user\", \"content\": prompt}\n",
        "        ],\n",
        "        temperature=0.7,\n",
        "        max_tokens=500\n",
        "    )\n",
        "    return response.choices[0].message.content.strip()\n"
      ],
      "metadata": {
        "id": "NwGP10upX5t9"
      },
      "execution_count": 23,
      "outputs": []
    },
    {
      "cell_type": "markdown",
      "source": [
        "# Cell 7: LangGraph Nodes\n",
        "# Each of these functions represents a node in our LangGraph DAG.\n",
        "# - `agent_node`: Generates a turn from the active agent.\n",
        "# - `update_memory`: Passes the updated debate transcript to the other agent.\n",
        "# - `judge_node`: Summarizes the transcript and declares a winner.\n",
        "# These modular nodes give the workflow its flexibility and DAG-like clarity."
      ],
      "metadata": {
        "id": "luxpU1bobUR8"
      }
    },
    {
      "cell_type": "code",
      "source": [
        "def agent_node(state: DebateState) -> DebateState:\n",
        "    role = state[\"next_speaker\"]\n",
        "    memory = state[\"memory1\"] if role == agent1 else state[\"memory2\"]\n",
        "    prompt = f\"\"\"\n",
        "You are a {role} in a formal debate.\n",
        "Debate Topic: {topic}\n",
        "Partial Transcript:\n",
        "{memory}\n",
        "\n",
        "Present your argument for Round {state['round']}.\n",
        "\"\"\"\n",
        "    response = ask_gpt(prompt)\n",
        "    turn = f\"[Round {state['round']}] {role}: {response}\"\n",
        "    state[\"history\"].append(turn)\n",
        "    return state\n"
      ],
      "metadata": {
        "id": "5L_adM3VYkyX"
      },
      "execution_count": 24,
      "outputs": []
    },
    {
      "cell_type": "code",
      "source": [
        "def update_memory(state: DebateState) -> DebateState:\n",
        "    if state[\"next_speaker\"] == agent1:\n",
        "        state[\"memory2\"] = \"\\n\".join(state[\"history\"])\n",
        "        state[\"next_speaker\"] = agent2\n",
        "    else:\n",
        "        state[\"memory1\"] = \"\\n\".join(state[\"history\"])\n",
        "        state[\"next_speaker\"] = agent1\n",
        "    state[\"round\"] += 1\n",
        "    return state\n"
      ],
      "metadata": {
        "id": "aFJhcSvPYpkb"
      },
      "execution_count": 25,
      "outputs": []
    },
    {
      "cell_type": "code",
      "source": [
        "def judge_node(state: DebateState) -> DebateState:\n",
        "    full_transcript = \"\\n\".join(state[\"history\"])\n",
        "    prompt = f\"\"\"\n",
        "You are a neutral and logical judge.\n",
        "Debate Topic: {topic}\n",
        "Transcript:\n",
        "{full_transcript}\n",
        "\n",
        "Summarize both sides' arguments and declare the winner with a justification.\n",
        "\"\"\"\n",
        "    verdict = ask_gpt(prompt)\n",
        "    state[\"verdict\"] = verdict\n",
        "    return state\n"
      ],
      "metadata": {
        "id": "6mzN4y88gg_E"
      },
      "execution_count": 26,
      "outputs": []
    },
    {
      "cell_type": "markdown",
      "source": [
        "# Cell 8: Build and Compile LangGraph DAG\n",
        "# Previously, I implemented agent switching using conditional loops manually.\n",
        "# This time, I adopted LangGraph's `StateGraph` structure, adding nodes and control edges formally.\n",
        "# The `route()` function checks the round number to determine whether to continue or call the judge."
      ],
      "metadata": {
        "id": "somBx60q1qmC"
      }
    },
    {
      "cell_type": "code",
      "source": [
        "graph = StateGraph(DebateState)\n",
        "graph.add_node(\"agent_turn\", agent_node)\n",
        "graph.add_node(\"update_memory\", update_memory)\n",
        "graph.add_node(\"judge\", judge_node)\n",
        "graph.set_entry_point(\"agent_turn\")\n",
        "\n",
        "def route(state: DebateState):\n",
        "    return \"judge\" if state[\"round\"] > 8 else \"update_memory\"\n",
        "\n",
        "graph.add_conditional_edges(\n",
        "    \"agent_turn\",\n",
        "    route,\n",
        "    {\n",
        "        \"update_memory\": \"update_memory\",\n",
        "        \"judge\": \"judge\"\n",
        "    }\n",
        ")\n",
        "\n",
        "graph.add_edge(\"update_memory\", \"agent_turn\")\n",
        "graph.add_edge(\"judge\", END)\n",
        "app = graph.compile()\n"
      ],
      "metadata": {
        "id": "3VFVB9PGhPmp"
      },
      "execution_count": 27,
      "outputs": []
    },
    {
      "cell_type": "markdown",
      "source": [
        "# Cell 9: Initialize and Run DAG\n",
        "# This launches the DAG with the initial empty state and begins executing 8 full debate rounds.\n",
        "# GPT is called once per round, plus one final time for the verdict — total of 9 completions."
      ],
      "metadata": {
        "id": "WZWnwuMAluTo"
      }
    },
    {
      "cell_type": "code",
      "source": [
        "initial_state = DebateState(\n",
        "    round=1,\n",
        "    history=[],\n",
        "    memory1=\"\",\n",
        "    memory2=\"\",\n",
        "    next_speaker=agent1,\n",
        "    verdict=\"\"\n",
        ")\n",
        "\n",
        "print(\"\\n Running the Debate DAG...\\n\")\n",
        "final_state = app.invoke(initial_state)\n"
      ],
      "metadata": {
        "colab": {
          "base_uri": "https://localhost:8080/"
        },
        "id": "P_W8ZXiJi2ZO",
        "outputId": "f08c969f-8eca-4bb3-e0f7-a36dc99ba27e"
      },
      "execution_count": 28,
      "outputs": [
        {
          "output_type": "stream",
          "name": "stdout",
          "text": [
            "\n",
            "🧠 Running the Debate DAG...\n",
            "\n"
          ]
        }
      ]
    },
    {
      "cell_type": "markdown",
      "source": [
        "# Cell 10: Display Output\n",
        "# This cell prints the full debate transcript followed by the final judgment.\n",
        "# Helpful for debugging or directly reviewing the simulation inside Colab."
      ],
      "metadata": {
        "id": "WPmkwkBBl05K"
      }
    },
    {
      "cell_type": "code",
      "source": [
        "print(\"\\n=== Debate Transcript ===\")\n",
        "print(\"\\n\".join(final_state[\"history\"]))\n",
        "\n",
        "print(\"\\n=== Verdict ===\")\n",
        "print(final_state[\"verdict\"])\n"
      ],
      "metadata": {
        "colab": {
          "base_uri": "https://localhost:8080/"
        },
        "id": "pWJU9ID7i-XM",
        "outputId": "46c54ece-b1c0-4742-8833-2a33b17f8875"
      },
      "execution_count": 29,
      "outputs": [
        {
          "output_type": "stream",
          "name": "stdout",
          "text": [
            "\n",
            "=== Debate Transcript ===\n",
            "[Round 1] scientist: Ladies and gentlemen, esteemed judges and fellow debaters, I stand before you today to argue in favor of regulating artificial intelligence (AI) as medicine. As a scientist, I believe that AI has incredible potential to revolutionize healthcare and improve patient outcomes. However, with great power comes great responsibility, and it is crucial that we regulate AI in the same way we regulate traditional medicines to ensure its safe and effective use.\n",
            "\n",
            "First and foremost, AI in healthcare is not just a tool or a technology - it is a form of medical intervention that can directly impact patient care. AI-powered systems are being used to diagnose diseases, predict treatment outcomes, and even assist in surgical procedures. Given the significant role that AI plays in medical decision-making, it is imperative that we hold these systems to the same rigorous standards as other medical interventions.\n",
            "\n",
            "Secondly, regulating AI as medicine will help to ensure patient safety and protect against potential harms. Just as we carefully evaluate the safety and efficacy of pharmaceuticals before they are approved for use, we must subject AI algorithms to thorough testing and validation processes. This will help to identify and mitigate any biases, errors, or unintended consequences that could put patients at risk.\n",
            "\n",
            "Furthermore, by regulating AI as medicine, we can also establish clear guidelines for accountability and liability. In the event that an AI system makes a mistake or causes harm to a patient, it is essential that there are established protocols for addressing these issues and holding responsible parties accountable. Without proper regulation, it may be difficult to determine who is ultimately responsible for any negative outcomes resulting from the use of AI in healthcare.\n",
            "\n",
            "In conclusion, regulating AI as medicine is not about stifling innovation or progress, but rather about ensuring that AI is used responsibly and ethically in the field of healthcare. By subjecting AI systems to the same standards and regulations as other medical interventions, we can help to maximize the benefits of AI while minimizing the risks to patients. Thank you.\n",
            "[Round 2] philosopher: [Round 2]\n",
            "\n",
            "Philosopher: Thank you, esteemed judges, fellow debaters, and audience members. In response to the scientist's argument in favor of regulating artificial intelligence (AI) as medicine, I would like to present a counterargument.\n",
            "\n",
            "While it is true that AI has the potential to greatly impact healthcare and improve patient outcomes, I believe that regulating AI as medicine may not be the most appropriate approach. AI differs fundamentally from traditional medicines in its nature and function. Unlike medications or medical procedures, AI is a technology that operates based on algorithms and data processing, rather than chemical interactions or physical interventions.\n",
            "\n",
            "One of the main concerns with regulating AI as medicine is the potential stifling of innovation and hindering progress in the field. By imposing strict regulations and standards on AI systems, we may inadvertently slow down the development and adoption of new technologies that could benefit patients. The rapid pace of technological advancement in AI requires flexibility and adaptability, which may be constrained by rigid regulatory frameworks designed for traditional medical interventions.\n",
            "\n",
            "Additionally, the complexity and diversity of AI applications in healthcare make it challenging to establish one-size-fits-all regulations that can effectively govern all AI systems. AI algorithms vary widely in their design, purpose, and functionality, making it difficult to apply standardized regulations across the board. This could lead to inconsistencies in regulatory enforcement and potentially hinder the ability of AI developers to innovate and tailor their solutions to specific healthcare needs.\n",
            "\n",
            "Furthermore, the comparison between AI and traditional medicines may not be entirely appropriate, as AI systems do not directly interact with patients in the same way that medications or medical procedures do. This distinction raises questions about the necessity and feasibility of regulating AI as medicine, as it may not align with the unique characteristics and capabilities of AI technology.\n",
            "\n",
            "In conclusion, while the concerns raised by the scientist regarding patient safety and accountability are valid, I argue that regulating AI as medicine may not be the most effective or appropriate approach. Instead, a more nuanced and context-specific regulatory framework that takes into account the unique nature of AI technology and its applications in healthcare may be more beneficial in promoting innovation and ensuring responsible use of AI for the benefit of patients. Thank you.\n",
            "[Round 3] scientist: [Round 3]\n",
            "\n",
            "Scientist: Thank you, esteemed judges, fellow debaters, and audience members. In response to the philosopher's counterargument against regulating artificial intelligence (AI) as medicine, I would like to further emphasize the importance of implementing regulatory measures for AI in healthcare.\n",
            "\n",
            "While it is true that AI differs from traditional medicines in its nature and function, it is crucial to recognize that AI in healthcare is not just a standalone technology but a critical component of medical decision-making and patient care. The increasing integration of AI algorithms in clinical practice means that these systems have the potential to directly impact patient outcomes and safety. Therefore, it is essential to establish regulatory frameworks that ensure the responsible development, deployment, and monitoring of AI systems to safeguard patient well-being.\n",
            "\n",
            "The argument that strict regulations may stifle innovation in the field of AI is a valid concern. However, it is possible to strike a balance between promoting innovation and protecting patient safety through thoughtful and adaptive regulatory approaches. By tailoring regulations to accommodate the unique characteristics of AI technology and its applications in healthcare, we can foster a supportive environment for innovation while upholding high standards of safety and efficacy.\n",
            "\n",
            "Moreover, the complexity and diversity of AI applications in healthcare should not be a deterrent to regulation but rather a motivation to develop flexible and dynamic regulatory frameworks that can accommodate the evolving landscape of AI technologies. By engaging with stakeholders across the healthcare and technology sectors, we can collaboratively design regulatory policies that address the specific challenges and opportunities presented by AI in medicine.\n",
            "\n",
            "In conclusion, regulating AI as medicine is not about imposing unnecessary restrictions or hindering progress but about ensuring that AI technologies are deployed responsibly and ethically in healthcare settings. By establishing clear guidelines for safety, efficacy, accountability, and transparency, we can harness the transformative potential of AI to improve patient outcomes while minimizing risks and uncertainties. Thank you.\n",
            "[Round 4] philosopher: [Round 4] Philosopher:\n",
            "\n",
            "Thank you, esteemed judges, fellow debaters, and audience members. In this final round, I would like to reiterate my position that regulating artificial intelligence (AI) as medicine may not be the most appropriate approach, and instead, advocate for a more nuanced and context-specific regulatory framework for AI in healthcare.\n",
            "\n",
            "While I acknowledge the importance of ensuring patient safety and accountability in the use of AI in healthcare, I believe that imposing rigid regulations designed for traditional medicines on AI systems may not be the most effective way to achieve these goals. AI technology operates in a fundamentally different manner, relying on algorithms and data processing rather than chemical interactions or physical interventions. This unique nature of AI calls for a regulatory approach that is tailored to its specific characteristics and capabilities.\n",
            "\n",
            "Furthermore, the rapid pace of technological advancement in AI requires a regulatory framework that is flexible and adaptable to accommodate innovation and progress in the field. Imposing overly strict regulations on AI systems could hinder the development and adoption of new technologies that have the potential to significantly benefit patients and improve healthcare outcomes. It is crucial to strike a balance between fostering innovation and safeguarding patient well-being.\n",
            "\n",
            "Additionally, the complexity and diversity of AI applications in healthcare make it challenging to establish standardized regulations that can effectively govern all AI systems. Each AI algorithm may have unique features and functions, requiring a more personalized regulatory approach that takes into account the specific context in which the AI system is being used. This tailored regulatory framework can promote innovation while ensuring that AI technologies are deployed responsibly and ethically.\n",
            "\n",
            "In conclusion, while the concerns raised by the scientist regarding patient safety and accountability are valid, I maintain that regulating AI as medicine may not be the most suitable approach. A more flexible, context-specific regulatory framework that recognizes the unique characteristics of AI technology and its applications in healthcare is essential to promote innovation, ensure patient safety, and maximize the benefits of AI in improving healthcare outcomes. Thank you.\n",
            "[Round 5] scientist: [Round 5] scientist:\n",
            "\n",
            "Thank you, esteemed judges, fellow debaters, and audience members. In this final round, I would like to reinforce my argument in favor of regulating artificial intelligence (AI) as medicine in the healthcare industry.\n",
            "\n",
            "Regulating AI as medicine is essential to ensure patient safety, accountability, and ethical use of this powerful technology. While it is acknowledged that AI operates differently from traditional medicines, it is important to recognize that AI is increasingly playing a significant role in medical decision-making, diagnosis, treatment planning, and patient care. As such, it is crucial to subject AI systems to rigorous standards and regulations to protect patients from potential harms and ensure the effectiveness of AI interventions.\n",
            "\n",
            "The comparison between AI and traditional medicines may be imperfect, but the fundamental goal of regulation remains the same: to ensure that medical interventions are safe, effective, and beneficial for patients. Just as we have regulatory frameworks in place for pharmaceuticals and medical devices to safeguard patient well-being, it is imperative that we extend similar oversight to AI systems in healthcare.\n",
            "\n",
            "Furthermore, the argument that strict regulations could stifle innovation in the field of AI is valid, but it is possible to strike a balance between promoting innovation and maintaining high standards of safety and efficacy. By adopting a flexible and adaptive regulatory approach that takes into account the unique characteristics of AI technology, we can create a supportive environment for innovation while upholding patient safety as a top priority.\n",
            "\n",
            "In conclusion, regulating AI as medicine is not about impeding progress or hindering innovation, but rather about ensuring that AI technologies are developed, deployed, and utilized responsibly in healthcare settings. By establishing clear guidelines for safety, efficacy, accountability, and transparency, we can harness the transformative potential of AI to improve patient outcomes and advance the field of medicine in a safe and ethical manner. Thank you for your attention.\n",
            "[Round 6] philosopher: [Round 6] philosopher:\n",
            "\n",
            "Thank you, esteemed judges, fellow debaters, and audience members. In this final round, I would like to conclude by reiterating the importance of a nuanced and context-specific approach to regulating artificial intelligence (AI) in healthcare, rather than categorizing it strictly as medicine.\n",
            "\n",
            "While it is undeniable that AI has the potential to significantly impact healthcare and improve patient outcomes, it is crucial to recognize the unique nature of AI technology and its distinct characteristics compared to traditional medical interventions. AI operates based on algorithms and data processing, which sets it apart from pharmaceuticals or surgical procedures. This fundamental difference calls for a regulatory framework that is tailored to the specific features and functionalities of AI systems.\n",
            "\n",
            "Imposing rigid regulations designed for traditional medicines on AI may not only hinder innovation but also fail to address the complex and diverse applications of AI in healthcare. Each AI algorithm may serve a different purpose and function in a specific healthcare context, making it challenging to apply standardized regulations across the board. A more personalized regulatory approach that considers the individual characteristics of AI systems would be more effective in ensuring patient safety and promoting responsible use of AI technology.\n",
            "\n",
            "Furthermore, the dynamic and rapidly evolving nature of AI necessitates a regulatory framework that is flexible and adaptable to accommodate ongoing advancements and changes in the field. By fostering a regulatory environment that encourages innovation while upholding ethical standards, we can harness the full potential of AI to enhance healthcare practices and patient care without compromising safety and accountability.\n",
            "\n",
            "In conclusion, instead of regulating AI as medicine, I advocate for a regulatory approach that acknowledges the unique attributes of AI technology and its applications in healthcare. By developing a flexible and context-specific regulatory framework, we can promote innovation, safeguard patient well-being, and maximize the benefits of AI in transforming the healthcare industry. Thank you for your attention and consideration throughout this debate.\n",
            "[Round 7] scientist: [Round 7] scientist:\n",
            "\n",
            "Thank you, esteemed judges, fellow debaters, and audience members. In this final round, I would like to present a comprehensive argument supporting the regulation of artificial intelligence (AI) as medicine in the healthcare industry.\n",
            "\n",
            "Artificial intelligence has become increasingly integrated into healthcare systems, playing a crucial role in medical decision-making, diagnosis, treatment planning, and patient care. As AI technology continues to advance and expand its applications in healthcare, it is imperative to establish regulatory measures that ensure the safe, effective, and ethical use of AI systems to protect patient well-being.\n",
            "\n",
            "Regulating AI as medicine is essential for several key reasons. Firstly, AI operates as a form of medical intervention with the potential to directly impact patient outcomes. Just as traditional medicines are subject to rigorous testing and evaluation to ensure their safety and efficacy, AI systems must also undergo thorough validation processes to identify and mitigate potential biases, errors, or unintended consequences that could pose risks to patients.\n",
            "\n",
            "Secondly, by subjecting AI algorithms to regulatory oversight, we can establish clear guidelines for accountability and liability in the event of adverse outcomes. It is essential to have protocols in place to address any errors or harms caused by AI systems, ensuring that responsible parties are held accountable and that patients are protected from potential risks associated with AI technology.\n",
            "\n",
            "Moreover, regulating AI as medicine does not have to stifle innovation or hinder progress in the field. By adopting a flexible and adaptive regulatory approach that considers the unique characteristics of AI technology, we can strike a balance between promoting innovation and maintaining high standards of safety and efficacy in healthcare applications of AI.\n",
            "\n",
            "In conclusion, regulating AI as medicine is crucial to ensure the responsible development, deployment, and utilization of AI technology in healthcare settings. By implementing clear guidelines for safety, efficacy, accountability, and transparency, we can harness the transformative potential of AI to improve patient outcomes and advance the field of medicine in a safe and ethical manner. Thank you for your attention and consideration throughout this debate.\n",
            "[Round 8] philosopher: [Round 8] philosopher:\n",
            "\n",
            "Thank you, esteemed judges, fellow debaters, and audience members. In this final round, I would like to summarize and reinforce my position on the regulation of artificial intelligence (AI) in healthcare.\n",
            "\n",
            "Throughout this debate, we have discussed the potential benefits and challenges of regulating AI as medicine. While the scientist has emphasized the importance of patient safety, accountability, and ethical use of AI in healthcare, I have argued for a more nuanced and context-specific regulatory framework that takes into account the unique characteristics of AI technology.\n",
            "\n",
            "It is crucial to recognize that AI operates fundamentally differently from traditional medicines, relying on algorithms and data processing rather than chemical interactions or physical interventions. This distinction calls for a regulatory approach that is tailored to the specific features and functionalities of AI systems, rather than imposing rigid regulations designed for traditional medical interventions.\n",
            "\n",
            "The rapid pace of technological advancement in AI necessitates a regulatory framework that is flexible and adaptable to accommodate innovation while upholding high standards of safety and efficacy. By fostering a regulatory environment that encourages responsible use of AI technology, we can harness the transformative potential of AI to improve healthcare outcomes without compromising patient safety.\n",
            "\n",
            "Furthermore, the complexity and diversity of AI applications in healthcare require a personalized regulatory approach that considers the unique characteristics of each AI system. Standardized regulations may not effectively govern all AI algorithms, leading to inconsistencies in regulatory enforcement and potential hindrances to innovation in the field.\n",
            "\n",
            "In conclusion, I maintain that a flexible, context-specific regulatory framework for AI in healthcare is essential to promote innovation, ensure patient safety, and maximize the benefits of AI technology. By recognizing the distinct nature of AI technology and tailoring regulations to its specific characteristics and applications, we can create a regulatory environment that supports responsible use of AI in healthcare while fostering innovation and advancing patient care. Thank you for your attention and engagement throughout this debate.\n",
            "[Round 9] scientist: [Round 9] scientist:\n",
            "\n",
            "Thank you, esteemed judges, fellow debaters, and audience members. In this final round, I would like to further solidify my argument in favor of regulating artificial intelligence (AI) as medicine in the healthcare industry.\n",
            "\n",
            "Regulating AI as medicine is crucial for ensuring patient safety, accountability, and the ethical use of this powerful technology. While AI may operate differently from traditional medicines, it is increasingly becoming an integral part of medical decision-making, diagnosis, treatment planning, and patient care. Therefore, subjecting AI systems to rigorous standards and regulations is essential to protect patients from potential harms and ensure the effectiveness of AI interventions.\n",
            "\n",
            "The comparison between AI and traditional medicines may not be perfect, but the underlying goal of regulation remains consistent: to ensure that medical interventions are safe, effective, and beneficial for patients. Just as pharmaceuticals and medical devices are subject to regulatory oversight to safeguard patient well-being, it is imperative that we extend similar scrutiny to AI systems in healthcare.\n",
            "\n",
            "Addressing the concern that strict regulations could stifle innovation, it is possible to strike a balance between fostering innovation and upholding high standards of safety and efficacy through adaptive and thoughtful regulatory approaches. By tailoring regulations to accommodate the unique characteristics of AI technology and its applications in healthcare, we can create an environment that supports innovation while prioritizing patient safety.\n",
            "\n",
            "Furthermore, the complexity and diversity of AI applications in healthcare should not deter us from regulation, but rather motivate us to develop flexible and dynamic regulatory frameworks that can adapt to the evolving landscape of AI technologies. By engaging with stakeholders from different sectors, we can collaboratively design regulatory policies that address the specific challenges and opportunities presented by AI in medicine.\n",
            "\n",
            "In conclusion, regulating AI as medicine is essential for ensuring that AI technologies are deployed responsibly and ethically in healthcare settings. By establishing clear guidelines for safety, efficacy, accountability, and transparency, we can harness the transformative potential of AI to enhance patient outcomes and advance the field of medicine in a safe and ethical manner. Thank you for your attention and consideration throughout this debate.\n",
            "\n",
            "=== Verdict ===\n",
            "Both the scientist and the philosopher presented compelling arguments in the debate over whether artificial intelligence (AI) should be regulated as medicine in the healthcare industry.\n",
            "\n",
            "The scientist emphasized the importance of regulating AI as medicine to ensure patient safety, accountability, and ethical use of the technology. They argued that AI is a critical component of medical decision-making and patient care, necessitating regulatory frameworks similar to those in place for traditional medicines. The scientist acknowledged concerns about stifling innovation but proposed a balanced approach that considers the unique characteristics of AI while upholding high standards of safety and efficacy.\n",
            "\n",
            "On the other hand, the philosopher advocated for a more nuanced and context-specific regulatory framework for AI in healthcare, rather than categorizing it strictly as medicine. They highlighted the fundamental differences between AI and traditional medicines, such as the reliance on algorithms and data processing, and argued that standardized regulations may not effectively govern the diverse applications of AI in healthcare. The philosopher emphasized the need for flexibility and adaptability in regulation to promote innovation while safeguarding patient well-being.\n",
            "\n",
            "After considering both sides' arguments, the philosopher's stance on a tailored regulatory approach for AI in healthcare appears to be more nuanced and comprehensive. By recognizing the unique characteristics of AI technology and advocating for a regulatory framework that accommodates innovation while ensuring patient safety, the philosopher's argument addresses the complexities and challenges inherent in regulating AI in the healthcare industry.\n",
            "\n",
            "Therefore, the philosopher's position on a context-specific regulatory framework for AI in healthcare is deemed the winning argument in this debate, as it offers a more holistic and flexible approach to regulating AI technology in the medical field.\n"
          ]
        }
      ]
    },
    {
      "cell_type": "markdown",
      "source": [
        "# Cell 11: Save Output to File\n",
        "# I added this to persist results across sessions and allow review or submission.\n",
        "# The output is stored with a timestamp to avoid overwriting prior runs."
      ],
      "metadata": {
        "id": "2nuzta1el8Ai"
      }
    },
    {
      "cell_type": "code",
      "source": [
        "now = datetime.datetime.now().strftime(\"%Y%m%d_%H%M\")\n",
        "with open(f\"debate_log_{now}.txt\", \"w\") as f:\n",
        "    f.write(\"=== Debate Transcript ===\\n\")\n",
        "    f.write(\"\\n\".join(final_state[\"history\"]))\n",
        "    f.write(\"\\n\\n=== Verdict ===\\n\")\n",
        "    f.write(final_state[\"verdict\"])\n",
        "\n",
        "print(f\"\\n📝 Transcript saved as debate_log_{now}.txt\")\n"
      ],
      "metadata": {
        "colab": {
          "base_uri": "https://localhost:8080/"
        },
        "id": "ccjZN-_kjAq9",
        "outputId": "b18bdd41-2aab-4e72-f7f7-5c4e79f984d7"
      },
      "execution_count": 30,
      "outputs": [
        {
          "output_type": "stream",
          "name": "stdout",
          "text": [
            "\n",
            "📝 Transcript saved as debate_log_20250628_0937.txt\n"
          ]
        }
      ]
    },
    {
      "cell_type": "markdown",
      "source": [
        "# Cell 12: Enable File Download (for Colab)\n",
        "# Since Colab does not provide a native file browser, I added this line\n",
        "# to allow the user (or evaluator) to directly download the output transcript file.\n",
        "# This makes it easier to share or submit results without navigating the file system.\n",
        "# Since Colab does not provide a native file browser, I added this line\n",
        "# to allow the user (or evaluator) to directly download the output transcript file.\n",
        "# This makes it easier to share or submit results without navigating the file system."
      ],
      "metadata": {
        "id": "-vSJWEDS2Ca1"
      }
    },
    {
      "cell_type": "code",
      "source": [
        "from google.colab import files\n",
        "files.download(f\"debate_log_{now}.txt\")\n"
      ],
      "metadata": {
        "colab": {
          "base_uri": "https://localhost:8080/",
          "height": 17
        },
        "id": "xFZY9nJKi2wp",
        "outputId": "02d2c619-8dd5-4bda-e096-32433cfa4f3d"
      },
      "execution_count": 16,
      "outputs": [
        {
          "output_type": "display_data",
          "data": {
            "text/plain": [
              "<IPython.core.display.Javascript object>"
            ],
            "application/javascript": [
              "\n",
              "    async function download(id, filename, size) {\n",
              "      if (!google.colab.kernel.accessAllowed) {\n",
              "        return;\n",
              "      }\n",
              "      const div = document.createElement('div');\n",
              "      const label = document.createElement('label');\n",
              "      label.textContent = `Downloading \"${filename}\": `;\n",
              "      div.appendChild(label);\n",
              "      const progress = document.createElement('progress');\n",
              "      progress.max = size;\n",
              "      div.appendChild(progress);\n",
              "      document.body.appendChild(div);\n",
              "\n",
              "      const buffers = [];\n",
              "      let downloaded = 0;\n",
              "\n",
              "      const channel = await google.colab.kernel.comms.open(id);\n",
              "      // Send a message to notify the kernel that we're ready.\n",
              "      channel.send({})\n",
              "\n",
              "      for await (const message of channel.messages) {\n",
              "        // Send a message to notify the kernel that we're ready.\n",
              "        channel.send({})\n",
              "        if (message.buffers) {\n",
              "          for (const buffer of message.buffers) {\n",
              "            buffers.push(buffer);\n",
              "            downloaded += buffer.byteLength;\n",
              "            progress.value = downloaded;\n",
              "          }\n",
              "        }\n",
              "      }\n",
              "      const blob = new Blob(buffers, {type: 'application/binary'});\n",
              "      const a = document.createElement('a');\n",
              "      a.href = window.URL.createObjectURL(blob);\n",
              "      a.download = filename;\n",
              "      div.appendChild(a);\n",
              "      a.click();\n",
              "      div.remove();\n",
              "    }\n",
              "  "
            ]
          },
          "metadata": {}
        },
        {
          "output_type": "display_data",
          "data": {
            "text/plain": [
              "<IPython.core.display.Javascript object>"
            ],
            "application/javascript": [
              "download(\"download_59d7135b-327d-4d6b-8385-498f687c3fcf\", \"debate_log_20250628_0832.txt\", 19977)"
            ]
          },
          "metadata": {}
        }
      ]
    },
    {
      "cell_type": "markdown",
      "source": [
        "# Cell 13: DAG Diagram Visualization\n",
        "# To satisfy the 'DAG Diagram' deliverable in the task, I added this visualization block.\n",
        "# It reflects the LangGraph node structure (agent turns, memory, and judge).\n",
        "# This also serves as proof that a LangGraph-style DAG was used."
      ],
      "metadata": {
        "id": "ZRH7eB0n2S7h"
      }
    },
    {
      "cell_type": "code",
      "source": [
        "#  DAG Diagram Generation (Graphviz)\n",
        "from graphviz import Digraph\n",
        "\n",
        "dag = Digraph(format=\"png\")\n",
        "dag.attr(rankdir=\"LR\", size=\"8,5\")\n",
        "dag.attr('node', shape='box', style='filled', fillcolor='lightblue')\n",
        "\n",
        "# Nodes\n",
        "dag.node(\"Input\", \"User Input\")\n",
        "dag.node(\"Agent1\", f\"{agent1} Turn\")\n",
        "dag.node(\"Memory\", \"Memory Update\")\n",
        "dag.node(\"Agent2\", f\"{agent2} Turn\")\n",
        "dag.node(\"Judge\", \"Judge Node\")\n",
        "dag.node(\"END\", \"Verdict\")\n",
        "\n",
        "# Edges (LangGraph style)\n",
        "dag.edge(\"Input\", \"Agent1\")\n",
        "dag.edge(\"Agent1\", \"Memory\")\n",
        "dag.edge(\"Memory\", \"Agent2\")\n",
        "dag.edge(\"Agent2\", \"Memory\")\n",
        "dag.edge(\"Memory\", \"Agent1\")\n",
        "dag.edge(\"Memory\", \"Judge\", label=\"after 8 rounds\")\n",
        "dag.edge(\"Judge\", \"END\")\n",
        "\n",
        "# Render diagram to file\n",
        "dag.render(f\"debate_dag_{now}\", format=\"png\", cleanup=True)\n",
        "\n",
        "print(f\"📊 DAG diagram saved as debate_dag_{now}.png\")\n"
      ],
      "metadata": {
        "colab": {
          "base_uri": "https://localhost:8080/"
        },
        "id": "NAGzBNn8s9OL",
        "outputId": "3738d157-0ea6-4472-be6a-c9923cd61439"
      },
      "execution_count": 31,
      "outputs": [
        {
          "output_type": "stream",
          "name": "stdout",
          "text": [
            "📊 DAG diagram saved as debate_dag_20250628_0937.png\n"
          ]
        }
      ]
    },
    {
      "cell_type": "code",
      "source": [
        "\"\"\"#  Multi-Agent Debate DAG using LangGraph & OpenAI\n",
        "\n",
        "This project simulates a structured debate between two AI agents (Scientist vs Philosopher) over a user-provided topic using a LangGraph-inspired DAG workflow. The system uses GPT-based reasoning, turn-based memory, and a final judging node to declare a logical winner.\n",
        "\n",
        "---\n",
        "\n",
        "##  Features\n",
        "\n",
        "-  8-round structured debate (4 turns per agent)\n",
        "-  Profession-specific AI agents (Scientist & Philosopher)\n",
        "-  MemoryNode shares partial history to each agent\n",
        "-  JudgeNode summarizes and picks a winner\n",
        "-  GPT-powered arguments and logic (OpenAI API)\n",
        "-  Fully CLI-style flow in Colab\n",
        "-  DAG diagram generated with Graphviz\n",
        "-  Complete log file saved with transcript and verdict\n",
        "\n",
        "---\n",
        "\n",
        "##  Requirements\n",
        "\n",
        "- Python (Google Colab)\n",
        "- OpenAI API key (GPT-3.5 / GPT-4)\n",
        "- Packages:\n",
        "  - `openai==0.28.1` *(for legacy compatibility)*\n",
        "  - `graphviz`\n",
        "\n",
        "Install with:\n",
        "```bash\n",
        "pip install openai==0.28.1 graphviz\"\"\"\n"
      ],
      "metadata": {
        "colab": {
          "base_uri": "https://localhost:8080/",
          "height": 105
        },
        "id": "5bYNeOShhWwe",
        "outputId": "25595db0-a24c-499d-9e57-c83106571536"
      },
      "execution_count": 16,
      "outputs": [
        {
          "output_type": "execute_result",
          "data": {
            "text/plain": [
              "'#  Multi-Agent Debate DAG using LangGraph & OpenAI\\n\\nThis project simulates a structured debate between two AI agents (Scientist vs Philosopher) over a user-provided topic using a LangGraph-inspired DAG workflow. The system uses GPT-based reasoning, turn-based memory, and a final judging node to declare a logical winner.\\n\\n---\\n\\n##  Features\\n\\n-  8-round structured debate (4 turns per agent)\\n-  Profession-specific AI agents (Scientist & Philosopher)\\n-  MemoryNode shares partial history to each agent\\n-  JudgeNode summarizes and picks a winner\\n-  GPT-powered arguments and logic (OpenAI API)\\n-  Fully CLI-style flow in Colab\\n-  DAG diagram generated with Graphviz\\n-  Complete log file saved with transcript and verdict\\n\\n---\\n\\n##  Requirements\\n\\n- Python (Google Colab)\\n- OpenAI API key (GPT-3.5 / GPT-4)\\n- Packages:\\n  - `openai==0.28.1` *(for legacy compatibility)*\\n  - `graphviz`\\n\\nInstall with:\\n```bash\\npip install openai==0.28.1 graphviz'"
            ],
            "application/vnd.google.colaboratory.intrinsic+json": {
              "type": "string"
            }
          },
          "metadata": {},
          "execution_count": 16
        }
      ]
    },
    {
      "cell_type": "code",
      "source": [
        "\"\"\"#  LangGraph Multi-Agent Debate DAG\n",
        "\n",
        "This project simulates a structured debate between two AI agents using OpenAI's GPT-3.5 and the LangGraph library. Each agent takes turns presenting arguments on a user-specified topic, and a judge (also an LLM) evaluates the debate and announces a winner. This project showcases DAG-based coordination using LangGraph and memory-passing logic across multiple rounds.\n",
        "\n",
        "---\n",
        "\n",
        "##  Features\n",
        "\n",
        "-  Fully interactive CLI: Users provide the debate topic and roles for both agents.\n",
        "-  LangGraph DAG structure with memory-passing and conditional judgment.\n",
        "-  Supports 8 alternating rounds of debate using GPT-3.5-Turbo.\n",
        "-  Judge node summarizes arguments and declares a winner.\n",
        "-  Outputs:\n",
        "  - `.txt` transcript + verdict\n",
        "  - `.png` DAG visualization using Graphviz\n",
        "\n",
        "---\n",
        "\n",
        "##  Tech Stack\n",
        "\n",
        "- **LangGraph** for DAG node coordination and memory handling.\n",
        "- **OpenAI API (`openai==1.3.8`)** for LLM-based reasoning.\n",
        "- **Google Colab** as runtime platform.\n",
        "- **Graphviz** for visualizing the DAG.\n",
        "\n",
        "---\n",
        "\n",
        "##  How It Works\n",
        "\n",
        "### 1. User Input (CLI)\n",
        "Users provide:\n",
        "- A debate topic\n",
        "- Profession of Agent 1 (e.g., Scientist)\n",
        "- Profession of Agent 2 (e.g., Philosopher)\n",
        "\n",
        "This dynamic flow ensures agent roles are not hardcoded.\n",
        "\n",
        "### 2. LangGraph DAG Setup\n",
        "A custom `DebateState` is defined to carry:\n",
        "- The current round\n",
        "- Memory per agent\n",
        "- Debate history\n",
        "- Next speaker\n",
        "- Final verdict\n",
        "\n",
        "LangGraph nodes are configured:\n",
        "- `agent_turn`: Generate LLM response\n",
        "- `update_memory`: Store full transcript\n",
        "- `judge`: Summarize and declare a winner\n",
        "\n",
        "Control is routed using a `route()` function that sends flow to the judge after round 8.\n",
        "\n",
        "### 3. Execution\n",
        "The DAG is invoked using `.invoke(initial_state)`:\n",
        "- 8 rounds are executed (turn-by-turn)\n",
        "- The judge node is triggered on the 9th transition\n",
        "- All outputs are printed and saved\n",
        "\n",
        "### 4. Output Files\n",
        "- `debate_log_<timestamp>.txt`: Full transcript + final verdict\n",
        "- `debate_dag_<timestamp>.png`: A visual DAG flow\n",
        "\n",
        "Files can be downloaded in Colab using:\n",
        "```python\n",
        "from google.colab import files\n",
        "files.download(...)\n",
        "Sample Flow\n",
        "User Input:\n",
        "\n",
        "\n",
        "Topic: Should AI be regulated as medicine?\n",
        "Agent 1: Scientist\n",
        "Agent 2: Philosopher\n",
        "Round 1: Scientist argues\n",
        "\n",
        "Round 2: Philosopher responds\n",
        "\n",
        "...\n",
        "\n",
        "Verdict: Judge declares the winner with reasoning\n",
        "\n",
        " DAG Architecture\n",
        "The DAG diagram (auto-generated) contains:\n",
        "\n",
        "\n",
        "User Input → Agent 1 Turn → Memory Update → Agent 2 Turn → ...\n",
        "→ After 8 rounds → Judge → Verdict\n",
        "Graphviz renders this into a .png file to satisfy the deliverable.\n",
        "\n",
        " Demo Video\n",
        "https://www.loom.com/share/8cca0174bfdc4c7ab0dd839a210871ea?sid=3975f92d-8105-4a8d-89c1-3f5c057ad98f\"\"\"\"\"\""
      ],
      "metadata": {
        "id": "7VWX4z7Xi4Wv"
      },
      "execution_count": 16,
      "outputs": []
    }
  ]
}